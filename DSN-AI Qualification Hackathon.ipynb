{
 "cells": [
  {
   "cell_type": "markdown",
   "id": "6bf6f3b2-1d6b-4ee3-b755-22172e9ebe66",
   "metadata": {},
   "source": [
    "# DSN-AI-Bootcamp-Qualification-Hackathon"
   ]
  },
  {
   "cell_type": "code",
   "execution_count": 1,
   "id": "31f72c06-85b4-4c35-bae0-b30a3f98cd4b",
   "metadata": {},
   "outputs": [],
   "source": [
    "# Importing relevant libraries\n",
    "import numpy as np\n",
    "import pandas as pd\n",
    "import matplotlib.pyplot as plt\n",
    "import warnings\n",
    "warnings.filterwarnings('ignore')\n",
    "%matplotlib inline"
   ]
  },
  {
   "cell_type": "code",
   "execution_count": 2,
   "id": "07d9ab54-0950-47f7-86a8-2043898511d8",
   "metadata": {},
   "outputs": [],
   "source": [
    "# Importing train and test datasets\n",
    "data_test = pd.read_csv(\"C:/Users/IKECHUKWU/Desktop/ML Datasets/DSN Hackathon/Housing_dataset_test.csv\")\n",
    "data_train = pd.read_csv(\"C:/Users/IKECHUKWU/Desktop/ML Datasets/DSN Hackathon/Housing_dataset_train.csv\")\n",
    "train = data_train.copy()\n",
    "test = data_test.copy()\n",
    "ID = data_test.ID"
   ]
  },
  {
   "cell_type": "code",
   "execution_count": 3,
   "id": "a9a63027-2795-46e9-85ba-00c6f54ca199",
   "metadata": {},
   "outputs": [],
   "source": [
    "# Removing ID column\n",
    "def drop_id(xp):\n",
    "    xp = xp.drop(\"ID\", axis = 1)\n",
    "    return xp\n",
    "train = drop_id(train)\n",
    "test = drop_id(test)"
   ]
  },
  {
   "cell_type": "code",
   "execution_count": 4,
   "id": "49ad98e9-abc0-4d6e-9d1a-64c7a84e2d39",
   "metadata": {},
   "outputs": [
    {
     "data": {
      "text/plain": [
       "loc              1813\n",
       "title            1722\n",
       "bedroom          1799\n",
       "bathroom         1805\n",
       "parking_space    1811\n",
       "price               0\n",
       "dtype: int64"
      ]
     },
     "execution_count": 4,
     "metadata": {},
     "output_type": "execute_result"
    }
   ],
   "source": [
    "train.isna().sum()"
   ]
  },
  {
   "cell_type": "markdown",
   "id": "18826550-c9b1-416d-af15-e90b3b22aa1d",
   "metadata": {},
   "source": [
    "## Encoding categorical variables"
   ]
  },
  {
   "cell_type": "code",
   "execution_count": 5,
   "id": "b6a744b8-eaa0-4a4e-9f09-ec0d436df017",
   "metadata": {},
   "outputs": [
    {
     "data": {
      "text/plain": [
       "((20000, 5), (14000, 6), (6000, 5))"
      ]
     },
     "execution_count": 5,
     "metadata": {},
     "output_type": "execute_result"
    }
   ],
   "source": [
    "data = pd.concat([train,test], axis = 0)\n",
    "data = data.drop([\"price\"], axis=1)\n",
    "data.shape, train.shape, test.shape"
   ]
  },
  {
   "cell_type": "code",
   "execution_count": 6,
   "id": "e1342daf-53d7-4096-b196-2ffc9f736320",
   "metadata": {},
   "outputs": [
    {
     "data": {
      "text/html": [
       "<div><div id=5af252b4-950e-4769-ae4f-3cc011675a14 style=\"display:none; background-color:#9D6CFF; color:white; width:200px; height:30px; padding-left:5px; border-radius:4px; flex-direction:row; justify-content:space-around; align-items:center;\" onmouseover=\"this.style.backgroundColor='#BA9BF8'\" onmouseout=\"this.style.backgroundColor='#9D6CFF'\" onclick=\"window.commands?.execute('create-mitosheet-from-dataframe-output');\">See Full Dataframe in Mito</div> <script> if (window.commands?.hasCommand('create-mitosheet-from-dataframe-output')) document.getElementById('5af252b4-950e-4769-ae4f-3cc011675a14').style.display = 'flex' </script> <table border=\"1\" class=\"dataframe\">\n",
       "  <thead>\n",
       "    <tr style=\"text-align: right;\">\n",
       "      <th></th>\n",
       "      <th>loc</th>\n",
       "      <th>title</th>\n",
       "      <th>bedroom</th>\n",
       "      <th>bathroom</th>\n",
       "      <th>parking_space</th>\n",
       "    </tr>\n",
       "  </thead>\n",
       "  <tbody>\n",
       "    <tr>\n",
       "      <th>0</th>\n",
       "      <td>Katsina</td>\n",
       "      <td>6</td>\n",
       "      <td>2.0</td>\n",
       "      <td>2.0</td>\n",
       "      <td>1.0</td>\n",
       "    </tr>\n",
       "    <tr>\n",
       "      <th>1</th>\n",
       "      <td>Ondo</td>\n",
       "      <td>9</td>\n",
       "      <td>NaN</td>\n",
       "      <td>2.0</td>\n",
       "      <td>4.0</td>\n",
       "    </tr>\n",
       "    <tr>\n",
       "      <th>2</th>\n",
       "      <td>Ekiti</td>\n",
       "      <td>NaN</td>\n",
       "      <td>7.0</td>\n",
       "      <td>5.0</td>\n",
       "      <td>NaN</td>\n",
       "    </tr>\n",
       "    <tr>\n",
       "      <th>3</th>\n",
       "      <td>Anambra</td>\n",
       "      <td>5</td>\n",
       "      <td>5.0</td>\n",
       "      <td>2.0</td>\n",
       "      <td>4.0</td>\n",
       "    </tr>\n",
       "    <tr>\n",
       "      <th>4</th>\n",
       "      <td>Kogi</td>\n",
       "      <td>4</td>\n",
       "      <td>NaN</td>\n",
       "      <td>5.0</td>\n",
       "      <td>6.0</td>\n",
       "    </tr>\n",
       "    <tr>\n",
       "      <th>...</th>\n",
       "      <td>...</td>\n",
       "      <td>...</td>\n",
       "      <td>...</td>\n",
       "      <td>...</td>\n",
       "      <td>...</td>\n",
       "    </tr>\n",
       "    <tr>\n",
       "      <th>5995</th>\n",
       "      <td>Ekiti</td>\n",
       "      <td>7</td>\n",
       "      <td>4.0</td>\n",
       "      <td>5.0</td>\n",
       "      <td>2.0</td>\n",
       "    </tr>\n",
       "    <tr>\n",
       "      <th>5996</th>\n",
       "      <td>Adamawa</td>\n",
       "      <td>4</td>\n",
       "      <td>5.0</td>\n",
       "      <td>7.0</td>\n",
       "      <td>1.0</td>\n",
       "    </tr>\n",
       "    <tr>\n",
       "      <th>5997</th>\n",
       "      <td>Oyo</td>\n",
       "      <td>3</td>\n",
       "      <td>4.0</td>\n",
       "      <td>1.0</td>\n",
       "      <td>4.0</td>\n",
       "    </tr>\n",
       "    <tr>\n",
       "      <th>5998</th>\n",
       "      <td>Bauchi</td>\n",
       "      <td>7</td>\n",
       "      <td>3.0</td>\n",
       "      <td>7.0</td>\n",
       "      <td>5.0</td>\n",
       "    </tr>\n",
       "    <tr>\n",
       "      <th>5999</th>\n",
       "      <td>Sokoto</td>\n",
       "      <td>10</td>\n",
       "      <td>6.0</td>\n",
       "      <td>1.0</td>\n",
       "      <td>6.0</td>\n",
       "    </tr>\n",
       "  </tbody>\n",
       "</table></div>"
      ],
      "text/plain": [
       "          loc title  bedroom  bathroom  parking_space\n",
       "0     Katsina     6      2.0       2.0            1.0\n",
       "1        Ondo     9      NaN       2.0            4.0\n",
       "2       Ekiti   NaN      7.0       5.0            NaN\n",
       "3     Anambra     5      5.0       2.0            4.0\n",
       "4        Kogi     4      NaN       5.0            6.0\n",
       "...       ...   ...      ...       ...            ...\n",
       "5995    Ekiti     7      4.0       5.0            2.0\n",
       "5996  Adamawa     4      5.0       7.0            1.0\n",
       "5997      Oyo     3      4.0       1.0            4.0\n",
       "5998   Bauchi     7      3.0       7.0            5.0\n",
       "5999   Sokoto    10      6.0       1.0            6.0\n",
       "\n",
       "[20000 rows x 5 columns]"
      ]
     },
     "execution_count": 6,
     "metadata": {},
     "output_type": "execute_result"
    }
   ],
   "source": [
    "# Encoding \"title\" column\n",
    "data[\"title\"] = data[\"title\"].astype(\"category\")\n",
    "title_unique = {'Cottage': 1,\n",
    "                'Bungalow': 2,\n",
    "                'Townhouse': 3,\n",
    "                'Terrace duplex': 4,\n",
    "                'Detached duplex': 5,\n",
    "                'Semi-detached duplex': 6,\n",
    "                'Flat': 7,\n",
    "                'Penthouse': 8,\n",
    "                'Apartment': 9,\n",
    "                'Mansion': 10\n",
    "               }\n",
    "data[\"title\"] = data[\"title\"].map(title_unique)\n",
    "data"
   ]
  },
  {
   "cell_type": "markdown",
   "id": "3e6eedaf-4e83-42d9-a663-3d5e58301def",
   "metadata": {},
   "source": [
    "## Feature Engineering"
   ]
  },
  {
   "cell_type": "code",
   "execution_count": 7,
   "id": "f1c995e7-55b2-495d-9a8a-ff16d44c7157",
   "metadata": {},
   "outputs": [
    {
     "data": {
      "text/html": [
       "<div><div id=26d821fb-d152-4a46-884a-0147c01afde5 style=\"display:none; background-color:#9D6CFF; color:white; width:200px; height:30px; padding-left:5px; border-radius:4px; flex-direction:row; justify-content:space-around; align-items:center;\" onmouseover=\"this.style.backgroundColor='#BA9BF8'\" onmouseout=\"this.style.backgroundColor='#9D6CFF'\" onclick=\"window.commands?.execute('create-mitosheet-from-dataframe-output');\">See Full Dataframe in Mito</div> <script> if (window.commands?.hasCommand('create-mitosheet-from-dataframe-output')) document.getElementById('26d821fb-d152-4a46-884a-0147c01afde5').style.display = 'flex' </script> <table border=\"1\" class=\"dataframe\">\n",
       "  <thead>\n",
       "    <tr style=\"text-align: right;\">\n",
       "      <th></th>\n",
       "      <th>loc</th>\n",
       "      <th>title</th>\n",
       "      <th>bedroom</th>\n",
       "      <th>bathroom</th>\n",
       "      <th>parking_space</th>\n",
       "      <th>regions</th>\n",
       "    </tr>\n",
       "  </thead>\n",
       "  <tbody>\n",
       "    <tr>\n",
       "      <th>0</th>\n",
       "      <td>Katsina</td>\n",
       "      <td>6</td>\n",
       "      <td>2.0</td>\n",
       "      <td>2.0</td>\n",
       "      <td>1.0</td>\n",
       "      <td>North</td>\n",
       "    </tr>\n",
       "    <tr>\n",
       "      <th>1</th>\n",
       "      <td>Ondo</td>\n",
       "      <td>9</td>\n",
       "      <td>NaN</td>\n",
       "      <td>2.0</td>\n",
       "      <td>4.0</td>\n",
       "      <td>West</td>\n",
       "    </tr>\n",
       "    <tr>\n",
       "      <th>2</th>\n",
       "      <td>Ekiti</td>\n",
       "      <td>NaN</td>\n",
       "      <td>7.0</td>\n",
       "      <td>5.0</td>\n",
       "      <td>NaN</td>\n",
       "      <td>West</td>\n",
       "    </tr>\n",
       "    <tr>\n",
       "      <th>3</th>\n",
       "      <td>Anambra</td>\n",
       "      <td>5</td>\n",
       "      <td>5.0</td>\n",
       "      <td>2.0</td>\n",
       "      <td>4.0</td>\n",
       "      <td>East</td>\n",
       "    </tr>\n",
       "    <tr>\n",
       "      <th>4</th>\n",
       "      <td>Kogi</td>\n",
       "      <td>4</td>\n",
       "      <td>NaN</td>\n",
       "      <td>5.0</td>\n",
       "      <td>6.0</td>\n",
       "      <td>North</td>\n",
       "    </tr>\n",
       "    <tr>\n",
       "      <th>...</th>\n",
       "      <td>...</td>\n",
       "      <td>...</td>\n",
       "      <td>...</td>\n",
       "      <td>...</td>\n",
       "      <td>...</td>\n",
       "      <td>...</td>\n",
       "    </tr>\n",
       "    <tr>\n",
       "      <th>5995</th>\n",
       "      <td>Ekiti</td>\n",
       "      <td>7</td>\n",
       "      <td>4.0</td>\n",
       "      <td>5.0</td>\n",
       "      <td>2.0</td>\n",
       "      <td>West</td>\n",
       "    </tr>\n",
       "    <tr>\n",
       "      <th>5996</th>\n",
       "      <td>Adamawa</td>\n",
       "      <td>4</td>\n",
       "      <td>5.0</td>\n",
       "      <td>7.0</td>\n",
       "      <td>1.0</td>\n",
       "      <td>North</td>\n",
       "    </tr>\n",
       "    <tr>\n",
       "      <th>5997</th>\n",
       "      <td>Oyo</td>\n",
       "      <td>3</td>\n",
       "      <td>4.0</td>\n",
       "      <td>1.0</td>\n",
       "      <td>4.0</td>\n",
       "      <td>West</td>\n",
       "    </tr>\n",
       "    <tr>\n",
       "      <th>5998</th>\n",
       "      <td>Bauchi</td>\n",
       "      <td>7</td>\n",
       "      <td>3.0</td>\n",
       "      <td>7.0</td>\n",
       "      <td>5.0</td>\n",
       "      <td>North</td>\n",
       "    </tr>\n",
       "    <tr>\n",
       "      <th>5999</th>\n",
       "      <td>Sokoto</td>\n",
       "      <td>10</td>\n",
       "      <td>6.0</td>\n",
       "      <td>1.0</td>\n",
       "      <td>6.0</td>\n",
       "      <td>North</td>\n",
       "    </tr>\n",
       "  </tbody>\n",
       "</table></div>"
      ],
      "text/plain": [
       "          loc title  bedroom  bathroom  parking_space regions\n",
       "0     Katsina     6      2.0       2.0            1.0   North\n",
       "1        Ondo     9      NaN       2.0            4.0    West\n",
       "2       Ekiti   NaN      7.0       5.0            NaN    West\n",
       "3     Anambra     5      5.0       2.0            4.0    East\n",
       "4        Kogi     4      NaN       5.0            6.0   North\n",
       "...       ...   ...      ...       ...            ...     ...\n",
       "5995    Ekiti     7      4.0       5.0            2.0    West\n",
       "5996  Adamawa     4      5.0       7.0            1.0   North\n",
       "5997      Oyo     3      4.0       1.0            4.0    West\n",
       "5998   Bauchi     7      3.0       7.0            5.0   North\n",
       "5999   Sokoto    10      6.0       1.0            6.0   North\n",
       "\n",
       "[20000 rows x 6 columns]"
      ]
     },
     "execution_count": 7,
     "metadata": {},
     "output_type": "execute_result"
    }
   ],
   "source": [
    "# Creating \"regions\" feature \n",
    "def get_region(state):\n",
    "    if state in ['Adamawa', 'Kogi', 'Kwara', 'Katsina', 'Nasarawa', 'Bauchi', 'Niger', 'Kano', 'Gombe', 'Taraba', 'Yobe', 'Zamfara', 'Borno', 'Jigawa', 'Plateau', 'Kaduna', 'Sokoto', 'Kebbi']:\n",
    "        return 'North'\n",
    "    elif state in ['Anambra', 'Abia', 'Imo', 'Enugu', 'Ebonyi']:\n",
    "        return 'East'\n",
    "    elif state in ['Lagos', 'Ondo', 'Osun', 'Ekiti', 'Oyo', 'Ogun']:\n",
    "        return 'West'\n",
    "    elif state in ['Edo', 'Benue', 'Delta', 'Cross River', 'Akwa Ibom', 'Bayelsa', 'Rivers']:\n",
    "        return 'South'\n",
    "    else:\n",
    "        return None\n",
    "\n",
    "data[\"regions\"] = data[\"loc\"].apply(get_region)\n",
    "data"
   ]
  },
  {
   "cell_type": "code",
   "execution_count": 8,
   "id": "a1afc00b-c92a-498b-a9f2-35b82f894445",
   "metadata": {},
   "outputs": [],
   "source": [
    "from sklearn.preprocessing import LabelEncoder, minmax_scale\n",
    "encoder = LabelEncoder()\n",
    "# Encoding \"loc\" column\n",
    "data[\"loc\"]=encoder.fit_transform(data[\"loc\"])\n",
    "data[\"loc\"] = minmax_scale(data[\"loc\"])\n",
    "# Creating a new feature \n",
    "data[\"bathroom-bedroom ratio\"] = data[\"bathroom\"]/data[\"bedroom\"]\n",
    "# Encoding \"Region\" column\n",
    "data[\"regions\"] = encoder.fit_transform(data[\"regions\"])\n",
    "data[\"regions\"] = minmax_scale(data[\"regions\"])\n",
    "# Redefining feature and target variables after encoding                                            \n",
    "feature = data[:train.shape[0]]\n",
    "target = train.price\n",
    "ft_test = data[train.shape[0]:]"
   ]
  },
  {
   "cell_type": "code",
   "execution_count": 9,
   "id": "2def5e0f-9544-4b14-a8f8-a7c33f6110a0",
   "metadata": {},
   "outputs": [
    {
     "data": {
      "text/html": [
       "<div><div id=9beefa6c-21c3-4024-bd12-714d54986374 style=\"display:none; background-color:#9D6CFF; color:white; width:200px; height:30px; padding-left:5px; border-radius:4px; flex-direction:row; justify-content:space-around; align-items:center;\" onmouseover=\"this.style.backgroundColor='#BA9BF8'\" onmouseout=\"this.style.backgroundColor='#9D6CFF'\" onclick=\"window.commands?.execute('create-mitosheet-from-dataframe-output');\">See Full Dataframe in Mito</div> <script> if (window.commands?.hasCommand('create-mitosheet-from-dataframe-output')) document.getElementById('9beefa6c-21c3-4024-bd12-714d54986374').style.display = 'flex' </script> <table border=\"1\" class=\"dataframe\">\n",
       "  <thead>\n",
       "    <tr style=\"text-align: right;\">\n",
       "      <th></th>\n",
       "      <th>loc</th>\n",
       "      <th>title</th>\n",
       "      <th>bedroom</th>\n",
       "      <th>bathroom</th>\n",
       "      <th>parking_space</th>\n",
       "      <th>regions</th>\n",
       "      <th>bathroom-bedroom ratio</th>\n",
       "    </tr>\n",
       "  </thead>\n",
       "  <tbody>\n",
       "    <tr>\n",
       "      <th>0</th>\n",
       "      <td>0.527778</td>\n",
       "      <td>6</td>\n",
       "      <td>2.0</td>\n",
       "      <td>2.0</td>\n",
       "      <td>1.0</td>\n",
       "      <td>0.25</td>\n",
       "      <td>1.000000</td>\n",
       "    </tr>\n",
       "    <tr>\n",
       "      <th>1</th>\n",
       "      <td>0.750000</td>\n",
       "      <td>9</td>\n",
       "      <td>NaN</td>\n",
       "      <td>2.0</td>\n",
       "      <td>4.0</td>\n",
       "      <td>0.75</td>\n",
       "      <td>NaN</td>\n",
       "    </tr>\n",
       "    <tr>\n",
       "      <th>2</th>\n",
       "      <td>0.333333</td>\n",
       "      <td>NaN</td>\n",
       "      <td>7.0</td>\n",
       "      <td>5.0</td>\n",
       "      <td>NaN</td>\n",
       "      <td>0.75</td>\n",
       "      <td>0.714286</td>\n",
       "    </tr>\n",
       "    <tr>\n",
       "      <th>3</th>\n",
       "      <td>0.083333</td>\n",
       "      <td>5</td>\n",
       "      <td>5.0</td>\n",
       "      <td>2.0</td>\n",
       "      <td>4.0</td>\n",
       "      <td>0.00</td>\n",
       "      <td>0.400000</td>\n",
       "    </tr>\n",
       "    <tr>\n",
       "      <th>4</th>\n",
       "      <td>0.583333</td>\n",
       "      <td>4</td>\n",
       "      <td>NaN</td>\n",
       "      <td>5.0</td>\n",
       "      <td>6.0</td>\n",
       "      <td>0.25</td>\n",
       "      <td>NaN</td>\n",
       "    </tr>\n",
       "    <tr>\n",
       "      <th>...</th>\n",
       "      <td>...</td>\n",
       "      <td>...</td>\n",
       "      <td>...</td>\n",
       "      <td>...</td>\n",
       "      <td>...</td>\n",
       "      <td>...</td>\n",
       "      <td>...</td>\n",
       "    </tr>\n",
       "    <tr>\n",
       "      <th>5995</th>\n",
       "      <td>0.333333</td>\n",
       "      <td>7</td>\n",
       "      <td>4.0</td>\n",
       "      <td>5.0</td>\n",
       "      <td>2.0</td>\n",
       "      <td>0.75</td>\n",
       "      <td>1.250000</td>\n",
       "    </tr>\n",
       "    <tr>\n",
       "      <th>5996</th>\n",
       "      <td>0.027778</td>\n",
       "      <td>4</td>\n",
       "      <td>5.0</td>\n",
       "      <td>7.0</td>\n",
       "      <td>1.0</td>\n",
       "      <td>0.25</td>\n",
       "      <td>1.400000</td>\n",
       "    </tr>\n",
       "    <tr>\n",
       "      <th>5997</th>\n",
       "      <td>0.805556</td>\n",
       "      <td>3</td>\n",
       "      <td>4.0</td>\n",
       "      <td>1.0</td>\n",
       "      <td>4.0</td>\n",
       "      <td>0.75</td>\n",
       "      <td>0.250000</td>\n",
       "    </tr>\n",
       "    <tr>\n",
       "      <th>5998</th>\n",
       "      <td>0.111111</td>\n",
       "      <td>7</td>\n",
       "      <td>3.0</td>\n",
       "      <td>7.0</td>\n",
       "      <td>5.0</td>\n",
       "      <td>0.25</td>\n",
       "      <td>2.333333</td>\n",
       "    </tr>\n",
       "    <tr>\n",
       "      <th>5999</th>\n",
       "      <td>0.888889</td>\n",
       "      <td>10</td>\n",
       "      <td>6.0</td>\n",
       "      <td>1.0</td>\n",
       "      <td>6.0</td>\n",
       "      <td>0.25</td>\n",
       "      <td>0.166667</td>\n",
       "    </tr>\n",
       "  </tbody>\n",
       "</table></div>"
      ],
      "text/plain": [
       "           loc title  bedroom  bathroom  parking_space  regions  \\\n",
       "0     0.527778     6      2.0       2.0            1.0     0.25   \n",
       "1     0.750000     9      NaN       2.0            4.0     0.75   \n",
       "2     0.333333   NaN      7.0       5.0            NaN     0.75   \n",
       "3     0.083333     5      5.0       2.0            4.0     0.00   \n",
       "4     0.583333     4      NaN       5.0            6.0     0.25   \n",
       "...        ...   ...      ...       ...            ...      ...   \n",
       "5995  0.333333     7      4.0       5.0            2.0     0.75   \n",
       "5996  0.027778     4      5.0       7.0            1.0     0.25   \n",
       "5997  0.805556     3      4.0       1.0            4.0     0.75   \n",
       "5998  0.111111     7      3.0       7.0            5.0     0.25   \n",
       "5999  0.888889    10      6.0       1.0            6.0     0.25   \n",
       "\n",
       "      bathroom-bedroom ratio  \n",
       "0                   1.000000  \n",
       "1                        NaN  \n",
       "2                   0.714286  \n",
       "3                   0.400000  \n",
       "4                        NaN  \n",
       "...                      ...  \n",
       "5995                1.250000  \n",
       "5996                1.400000  \n",
       "5997                0.250000  \n",
       "5998                2.333333  \n",
       "5999                0.166667  \n",
       "\n",
       "[20000 rows x 7 columns]"
      ]
     },
     "execution_count": 9,
     "metadata": {},
     "output_type": "execute_result"
    }
   ],
   "source": [
    "data"
   ]
  },
  {
   "cell_type": "markdown",
   "id": "1f09f7fd-b807-44cd-a1b3-9fe1758839ee",
   "metadata": {},
   "source": [
    "## Model Training and Evaluation"
   ]
  },
  {
   "cell_type": "code",
   "execution_count": 10,
   "id": "e8d684f3-48ee-461d-8910-9093f0ff39ca",
   "metadata": {},
   "outputs": [
    {
     "name": "stdout",
     "output_type": "stream",
     "text": [
      "RMSE Value: 578183.4697566264\n",
      "The test data was splitted inorder to calculate the accuracy of the model using Root Mean Squared Error. \n"
     ]
    }
   ],
   "source": [
    "from lightgbm import LGBMRegressor\n",
    "model = LGBMRegressor()\n",
    "from sklearn.model_selection import train_test_split\n",
    "x_train,x_test,y_train,y_test = train_test_split(feature, target, random_state=42, test_size=0.2)\n",
    "from lightgbm import LGBMRegressor\n",
    "model = LGBMRegressor()\n",
    "model.fit(x_train, y_train)\n",
    "test_predictions = model.predict(x_test)\n",
    "from sklearn.metrics import mean_squared_error\n",
    "mse = mean_squared_error(y_test,test_predictions, squared=False )\n",
    "print(f\"RMSE Value: {mse}\\nThe test data was splitted inorder to calculate the accuracy of the model using Root Mean Squared Error. \")"
   ]
  },
  {
   "cell_type": "code",
   "execution_count": 11,
   "id": "f502ba3e-329c-41eb-9abb-6552aee3f881",
   "metadata": {},
   "outputs": [
    {
     "data": {
      "text/plain": [
       "{'boosting_type': 'gbdt',\n",
       " 'class_weight': None,\n",
       " 'colsample_bytree': 1.0,\n",
       " 'importance_type': 'split',\n",
       " 'learning_rate': 0.1,\n",
       " 'max_depth': -1,\n",
       " 'min_child_samples': 20,\n",
       " 'min_child_weight': 0.001,\n",
       " 'min_split_gain': 0.0,\n",
       " 'n_estimators': 100,\n",
       " 'n_jobs': -1,\n",
       " 'num_leaves': 31,\n",
       " 'objective': None,\n",
       " 'random_state': None,\n",
       " 'reg_alpha': 0.0,\n",
       " 'reg_lambda': 0.0,\n",
       " 'silent': True,\n",
       " 'subsample': 1.0,\n",
       " 'subsample_for_bin': 200000,\n",
       " 'subsample_freq': 0}"
      ]
     },
     "execution_count": 11,
     "metadata": {},
     "output_type": "execute_result"
    }
   ],
   "source": [
    "model.get_params()"
   ]
  },
  {
   "cell_type": "markdown",
   "id": "c56b963d-0a88-4955-a709-ef52900f1272",
   "metadata": {},
   "source": [
    "## Hyperparameter Tuning"
   ]
  },
  {
   "cell_type": "code",
   "execution_count": 12,
   "id": "ebaccd6c-543a-4178-bbe2-3df3bd37e14c",
   "metadata": {},
   "outputs": [
    {
     "name": "stdout",
     "output_type": "stream",
     "text": [
      "[LightGBM] [Warning] min_data_in_leaf is set=10, min_child_samples=10 will be ignored. Current value: min_data_in_leaf=10\n",
      "[LightGBM] [Warning] num_iterations is set=300, num_boost_round=300 will be ignored. Current value: num_iterations=300\n",
      "[LightGBM] [Warning] min_data_in_leaf is set=10, min_child_samples=10 will be ignored. Current value: min_data_in_leaf=10\n",
      "[LightGBM] [Warning] num_iterations is set=300, num_boost_round=300 will be ignored. Current value: num_iterations=300\n",
      "[LightGBM] [Warning] min_data_in_leaf is set=10, min_child_samples=10 will be ignored. Current value: min_data_in_leaf=10\n",
      "[LightGBM] [Warning] num_iterations is set=300, num_boost_round=300 will be ignored. Current value: num_iterations=300\n",
      "[LightGBM] [Warning] min_data_in_leaf is set=10, min_child_samples=10 will be ignored. Current value: min_data_in_leaf=10\n",
      "[LightGBM] [Warning] num_iterations is set=300, num_boost_round=300 will be ignored. Current value: num_iterations=300\n"
     ]
    },
    {
     "data": {
      "text/html": [
       "<style>#sk-container-id-1 {color: black;}#sk-container-id-1 pre{padding: 0;}#sk-container-id-1 div.sk-toggleable {background-color: white;}#sk-container-id-1 label.sk-toggleable__label {cursor: pointer;display: block;width: 100%;margin-bottom: 0;padding: 0.3em;box-sizing: border-box;text-align: center;}#sk-container-id-1 label.sk-toggleable__label-arrow:before {content: \"▸\";float: left;margin-right: 0.25em;color: #696969;}#sk-container-id-1 label.sk-toggleable__label-arrow:hover:before {color: black;}#sk-container-id-1 div.sk-estimator:hover label.sk-toggleable__label-arrow:before {color: black;}#sk-container-id-1 div.sk-toggleable__content {max-height: 0;max-width: 0;overflow: hidden;text-align: left;background-color: #f0f8ff;}#sk-container-id-1 div.sk-toggleable__content pre {margin: 0.2em;color: black;border-radius: 0.25em;background-color: #f0f8ff;}#sk-container-id-1 input.sk-toggleable__control:checked~div.sk-toggleable__content {max-height: 200px;max-width: 100%;overflow: auto;}#sk-container-id-1 input.sk-toggleable__control:checked~label.sk-toggleable__label-arrow:before {content: \"▾\";}#sk-container-id-1 div.sk-estimator input.sk-toggleable__control:checked~label.sk-toggleable__label {background-color: #d4ebff;}#sk-container-id-1 div.sk-label input.sk-toggleable__control:checked~label.sk-toggleable__label {background-color: #d4ebff;}#sk-container-id-1 input.sk-hidden--visually {border: 0;clip: rect(1px 1px 1px 1px);clip: rect(1px, 1px, 1px, 1px);height: 1px;margin: -1px;overflow: hidden;padding: 0;position: absolute;width: 1px;}#sk-container-id-1 div.sk-estimator {font-family: monospace;background-color: #f0f8ff;border: 1px dotted black;border-radius: 0.25em;box-sizing: border-box;margin-bottom: 0.5em;}#sk-container-id-1 div.sk-estimator:hover {background-color: #d4ebff;}#sk-container-id-1 div.sk-parallel-item::after {content: \"\";width: 100%;border-bottom: 1px solid gray;flex-grow: 1;}#sk-container-id-1 div.sk-label:hover label.sk-toggleable__label {background-color: #d4ebff;}#sk-container-id-1 div.sk-serial::before {content: \"\";position: absolute;border-left: 1px solid gray;box-sizing: border-box;top: 0;bottom: 0;left: 50%;z-index: 0;}#sk-container-id-1 div.sk-serial {display: flex;flex-direction: column;align-items: center;background-color: white;padding-right: 0.2em;padding-left: 0.2em;position: relative;}#sk-container-id-1 div.sk-item {position: relative;z-index: 1;}#sk-container-id-1 div.sk-parallel {display: flex;align-items: stretch;justify-content: center;background-color: white;position: relative;}#sk-container-id-1 div.sk-item::before, #sk-container-id-1 div.sk-parallel-item::before {content: \"\";position: absolute;border-left: 1px solid gray;box-sizing: border-box;top: 0;bottom: 0;left: 50%;z-index: -1;}#sk-container-id-1 div.sk-parallel-item {display: flex;flex-direction: column;z-index: 1;position: relative;background-color: white;}#sk-container-id-1 div.sk-parallel-item:first-child::after {align-self: flex-end;width: 50%;}#sk-container-id-1 div.sk-parallel-item:last-child::after {align-self: flex-start;width: 50%;}#sk-container-id-1 div.sk-parallel-item:only-child::after {width: 0;}#sk-container-id-1 div.sk-dashed-wrapped {border: 1px dashed gray;margin: 0 0.4em 0.5em 0.4em;box-sizing: border-box;padding-bottom: 0.4em;background-color: white;}#sk-container-id-1 div.sk-label label {font-family: monospace;font-weight: bold;display: inline-block;line-height: 1.2em;}#sk-container-id-1 div.sk-label-container {text-align: center;}#sk-container-id-1 div.sk-container {/* jupyter's `normalize.less` sets `[hidden] { display: none; }` but bootstrap.min.css set `[hidden] { display: none !important; }` so we also need the `!important` here to be able to override the default hidden behavior on the sphinx rendered scikit-learn.org. See: https://github.com/scikit-learn/scikit-learn/issues/21755 */display: inline-block !important;position: relative;}#sk-container-id-1 div.sk-text-repr-fallback {display: none;}</style><div id=\"sk-container-id-1\" class=\"sk-top-container\"><div class=\"sk-text-repr-fallback\"><pre>GridSearchCV(cv=3, estimator=LGBMRegressor(),\n",
       "             param_grid={&#x27;colsample_bytree&#x27;: [0.5], &#x27;learning_rate&#x27;: [0.1],\n",
       "                         &#x27;max_depth&#x27;: [-1], &#x27;min_child_samples&#x27;: [10],\n",
       "                         &#x27;min_child_weight&#x27;: [0.001], &#x27;min_data_in_leaf&#x27;: [10],\n",
       "                         &#x27;n_estimators&#x27;: [100], &#x27;num_boost_round&#x27;: [300],\n",
       "                         &#x27;num_leaves&#x27;: [10], &#x27;reg_alpha&#x27;: [0.0],\n",
       "                         &#x27;reg_lambda&#x27;: [0.0], &#x27;subsample&#x27;: [0.1]})</pre><b>In a Jupyter environment, please rerun this cell to show the HTML representation or trust the notebook. <br />On GitHub, the HTML representation is unable to render, please try loading this page with nbviewer.org.</b></div><div class=\"sk-container\" hidden><div class=\"sk-item sk-dashed-wrapped\"><div class=\"sk-label-container\"><div class=\"sk-label sk-toggleable\"><input class=\"sk-toggleable__control sk-hidden--visually\" id=\"sk-estimator-id-1\" type=\"checkbox\" ><label for=\"sk-estimator-id-1\" class=\"sk-toggleable__label sk-toggleable__label-arrow\">GridSearchCV</label><div class=\"sk-toggleable__content\"><pre>GridSearchCV(cv=3, estimator=LGBMRegressor(),\n",
       "             param_grid={&#x27;colsample_bytree&#x27;: [0.5], &#x27;learning_rate&#x27;: [0.1],\n",
       "                         &#x27;max_depth&#x27;: [-1], &#x27;min_child_samples&#x27;: [10],\n",
       "                         &#x27;min_child_weight&#x27;: [0.001], &#x27;min_data_in_leaf&#x27;: [10],\n",
       "                         &#x27;n_estimators&#x27;: [100], &#x27;num_boost_round&#x27;: [300],\n",
       "                         &#x27;num_leaves&#x27;: [10], &#x27;reg_alpha&#x27;: [0.0],\n",
       "                         &#x27;reg_lambda&#x27;: [0.0], &#x27;subsample&#x27;: [0.1]})</pre></div></div></div><div class=\"sk-parallel\"><div class=\"sk-parallel-item\"><div class=\"sk-item\"><div class=\"sk-label-container\"><div class=\"sk-label sk-toggleable\"><input class=\"sk-toggleable__control sk-hidden--visually\" id=\"sk-estimator-id-2\" type=\"checkbox\" ><label for=\"sk-estimator-id-2\" class=\"sk-toggleable__label sk-toggleable__label-arrow\">estimator: LGBMRegressor</label><div class=\"sk-toggleable__content\"><pre>LGBMRegressor()</pre></div></div></div><div class=\"sk-serial\"><div class=\"sk-item\"><div class=\"sk-estimator sk-toggleable\"><input class=\"sk-toggleable__control sk-hidden--visually\" id=\"sk-estimator-id-3\" type=\"checkbox\" ><label for=\"sk-estimator-id-3\" class=\"sk-toggleable__label sk-toggleable__label-arrow\">LGBMRegressor</label><div class=\"sk-toggleable__content\"><pre>LGBMRegressor()</pre></div></div></div></div></div></div></div></div></div></div>"
      ],
      "text/plain": [
       "GridSearchCV(cv=3, estimator=LGBMRegressor(),\n",
       "             param_grid={'colsample_bytree': [0.5], 'learning_rate': [0.1],\n",
       "                         'max_depth': [-1], 'min_child_samples': [10],\n",
       "                         'min_child_weight': [0.001], 'min_data_in_leaf': [10],\n",
       "                         'n_estimators': [100], 'num_boost_round': [300],\n",
       "                         'num_leaves': [10], 'reg_alpha': [0.0],\n",
       "                         'reg_lambda': [0.0], 'subsample': [0.1]})"
      ]
     },
     "execution_count": 12,
     "metadata": {},
     "output_type": "execute_result"
    }
   ],
   "source": [
    "from sklearn.model_selection import GridSearchCV\n",
    "params = {\n",
    "         'n_estimators': [100],\n",
    "        'num_leaves': [10],\n",
    "        'learning_rate': [0.1],\n",
    "        'colsample_bytree': [0.60],\n",
    "        'max_depth': [-1],\n",
    "        'subsample': [0.10],\n",
    "        'min_data_in_leaf': [10],\n",
    "        'reg_alpha': [0.0],\n",
    "        'reg_lambda': [0.0],\n",
    "        'min_child_weight':[0.001],\n",
    "        'colsample_bytree': [0.50],\n",
    "        'min_child_samples': [10],\n",
    "        'num_boost_round': [300],        \n",
    "}\n",
    "grid_search = GridSearchCV(estimator=model, param_grid = params, cv = 3 )\n",
    "grid_search.fit(feature,target)\n"
   ]
  },
  {
   "cell_type": "code",
   "execution_count": 13,
   "id": "fee48a2f-0a56-40a0-937b-0e5d4b6fea7c",
   "metadata": {},
   "outputs": [
    {
     "data": {
      "image/png": "[encoded data removed]",
      "text/plain": [
       "<Figure size 864x432 with 1 Axes>"
      ]
     },
     "metadata": {
      "needs_background": "light"
     },
     "output_type": "display_data"
    }
   ],
   "source": [
    "# Get the best trained model from GridSearchCV\n",
    "best_model = grid_search.best_estimator_\n",
    "# Get feature importances from the best trained model\n",
    "feature_importances = best_model.feature_importances_\n",
    "# Create a pandas DataFrame to store the feature importances along with the feature names\n",
    "importance_df = pd.DataFrame({'Feature': feature.columns, 'Importance': feature_importances})\n",
    "# Sort the DataFrame in descending order of importance\n",
    "importance_df = importance_df.sort_values(by='Importance', ascending=True)\n",
    "\n",
    "# Create the plot\n",
    "plt.figure(figsize=(12, 6))\n",
    "plt.barh(importance_df['Feature'], importance_df['Importance'])\n",
    "#plt.xticks(rotation=15)\n",
    "plt.xlabel('Features',fontsize=15,)\n",
    "plt.ylabel('Importance',fontsize=15,)\n",
    "plt.title('Feature Importances', fontsize=20, )\n",
    "plt.show()"
   ]
  },
  {
   "cell_type": "markdown",
   "id": "acc8e358-3c9e-45db-b9f6-d5cfda8eb38f",
   "metadata": {},
   "source": [
    "## Final Predictions"
   ]
  },
  {
   "cell_type": "code",
   "execution_count": 14,
   "id": "a6954e4c-658f-4ee8-b415-b7520cf8aa42",
   "metadata": {},
   "outputs": [
    {
     "data": {
      "text/plain": [
       "(6000, 2800, 6000)"
      ]
     },
     "execution_count": 14,
     "metadata": {},
     "output_type": "execute_result"
    }
   ],
   "source": [
    "# Predictions\n",
    "predict = grid_search.predict(ft_test)\n",
    "predict.shape[0],x_test.shape[0], data_test.ID.shape[0]\n"
   ]
  },
  {
   "cell_type": "code",
   "execution_count": 15,
   "id": "cb9f2b2e-582c-40c4-9d05-fb50e32bf972",
   "metadata": {},
   "outputs": [],
   "source": [
    "container = {\"ID\": data_test.ID, \"price\": predict}\n",
    "model_Predictions =  pd.DataFrame(container)\n",
    "model_Predictions.ID = model_Predictions.ID.astype(\"category\")"
   ]
  },
  {
   "cell_type": "code",
   "execution_count": 16,
   "id": "a8ab64ed-0838-40d9-a27e-974cf1f1f7a6",
   "metadata": {},
   "outputs": [
    {
     "data": {
      "text/html": [
       "<div><div id=82c7b864-a53f-4530-a557-4541ed2e4aea style=\"display:none; background-color:#9D6CFF; color:white; width:200px; height:30px; padding-left:5px; border-radius:4px; flex-direction:row; justify-content:space-around; align-items:center;\" onmouseover=\"this.style.backgroundColor='#BA9BF8'\" onmouseout=\"this.style.backgroundColor='#9D6CFF'\" onclick=\"window.commands?.execute('create-mitosheet-from-dataframe-output');\">See Full Dataframe in Mito</div> <script> if (window.commands?.hasCommand('create-mitosheet-from-dataframe-output')) document.getElementById('82c7b864-a53f-4530-a557-4541ed2e4aea').style.display = 'flex' </script> <table border=\"1\" class=\"dataframe\">\n",
       "  <thead>\n",
       "    <tr style=\"text-align: right;\">\n",
       "      <th></th>\n",
       "      <th>ID</th>\n",
       "      <th>price</th>\n",
       "    </tr>\n",
       "  </thead>\n",
       "  <tbody>\n",
       "    <tr>\n",
       "      <th>0</th>\n",
       "      <td>845</td>\n",
       "      <td>2.369085e+06</td>\n",
       "    </tr>\n",
       "    <tr>\n",
       "      <th>1</th>\n",
       "      <td>1924</td>\n",
       "      <td>1.007242e+06</td>\n",
       "    </tr>\n",
       "    <tr>\n",
       "      <th>2</th>\n",
       "      <td>10718</td>\n",
       "      <td>1.286522e+06</td>\n",
       "    </tr>\n",
       "    <tr>\n",
       "      <th>3</th>\n",
       "      <td>12076</td>\n",
       "      <td>8.725004e+06</td>\n",
       "    </tr>\n",
       "    <tr>\n",
       "      <th>4</th>\n",
       "      <td>12254</td>\n",
       "      <td>1.865697e+06</td>\n",
       "    </tr>\n",
       "    <tr>\n",
       "      <th>...</th>\n",
       "      <td>...</td>\n",
       "      <td>...</td>\n",
       "    </tr>\n",
       "    <tr>\n",
       "      <th>5995</th>\n",
       "      <td>1594</td>\n",
       "      <td>1.706511e+06</td>\n",
       "    </tr>\n",
       "    <tr>\n",
       "      <th>5996</th>\n",
       "      <td>2416</td>\n",
       "      <td>1.926891e+06</td>\n",
       "    </tr>\n",
       "    <tr>\n",
       "      <th>5997</th>\n",
       "      <td>10195</td>\n",
       "      <td>1.968281e+06</td>\n",
       "    </tr>\n",
       "    <tr>\n",
       "      <th>5998</th>\n",
       "      <td>9455</td>\n",
       "      <td>1.351411e+06</td>\n",
       "    </tr>\n",
       "    <tr>\n",
       "      <th>5999</th>\n",
       "      <td>11736</td>\n",
       "      <td>3.487776e+06</td>\n",
       "    </tr>\n",
       "  </tbody>\n",
       "</table></div>"
      ],
      "text/plain": [
       "         ID         price\n",
       "0       845  2.369085e+06\n",
       "1      1924  1.007242e+06\n",
       "2     10718  1.286522e+06\n",
       "3     12076  8.725004e+06\n",
       "4     12254  1.865697e+06\n",
       "...     ...           ...\n",
       "5995   1594  1.706511e+06\n",
       "5996   2416  1.926891e+06\n",
       "5997  10195  1.968281e+06\n",
       "5998   9455  1.351411e+06\n",
       "5999  11736  3.487776e+06\n",
       "\n",
       "[6000 rows x 2 columns]"
      ]
     },
     "execution_count": 16,
     "metadata": {},
     "output_type": "execute_result"
    }
   ],
   "source": [
    "model_Predictions"
   ]
  },
  {
   "cell_type": "markdown",
   "id": "f6625d00-56bc-4b08-81bd-fbe68ba01b20",
   "metadata": {},
   "source": [
    "## Exporting Predictions"
   ]
  },
  {
   "cell_type": "code",
   "execution_count": 58,
   "id": "9162828e-0408-482e-bec3-a46053a6fac1",
   "metadata": {},
   "outputs": [],
   "source": [
    "model_Predictions.to_csv(\"My_Submission.csv\", index=False)"
   ]
  }
 ],
 "metadata": {
  "kernelspec": {
   "display_name": "Python 3 (ipykernel)",
   "language": "python",
   "name": "python3"
  },
  "language_info": {
   "codemirror_mode": {
    "name": "ipython",
    "version": 3
   },
   "file_extension": ".py",
   "mimetype": "text/x-python",
   "name": "python",
   "nbconvert_exporter": "python",
   "pygments_lexer": "ipython3",
   "version": "3.8.13"
  }
 },
 "nbformat": 4,
 "nbformat_minor": 5
}
